{
  "nbformat": 4,
  "nbformat_minor": 0,
  "metadata": {
    "colab": {
      "name": "adversarial.ipynb",
      "provenance": []
    },
    "kernelspec": {
      "name": "python3",
      "display_name": "Python 3"
    },
    "language_info": {
      "name": "python"
    },
    "accelerator": "GPU",
    "widgets": {
      "application/vnd.jupyter.widget-state+json": {
        "4ad07daaa14641068408e8cce7084b84": {
          "model_module": "@jupyter-widgets/controls",
          "model_name": "HBoxModel",
          "state": {
            "_view_name": "HBoxView",
            "_dom_classes": [],
            "_model_name": "HBoxModel",
            "_view_module": "@jupyter-widgets/controls",
            "_model_module_version": "1.5.0",
            "_view_count": null,
            "_view_module_version": "1.5.0",
            "box_style": "",
            "layout": "IPY_MODEL_7bc4bc0c99bf49d4a0d8acefc865e492",
            "_model_module": "@jupyter-widgets/controls",
            "children": [
              "IPY_MODEL_49713572cc2a4631ba34dee4ef042ca7",
              "IPY_MODEL_20b7ec68f4f3457891138e162caa31a9"
            ]
          }
        },
        "7bc4bc0c99bf49d4a0d8acefc865e492": {
          "model_module": "@jupyter-widgets/base",
          "model_name": "LayoutModel",
          "state": {
            "_view_name": "LayoutView",
            "grid_template_rows": null,
            "right": null,
            "justify_content": null,
            "_view_module": "@jupyter-widgets/base",
            "overflow": null,
            "_model_module_version": "1.2.0",
            "_view_count": null,
            "flex_flow": null,
            "width": null,
            "min_width": null,
            "border": null,
            "align_items": null,
            "bottom": null,
            "_model_module": "@jupyter-widgets/base",
            "top": null,
            "grid_column": null,
            "overflow_y": null,
            "overflow_x": null,
            "grid_auto_flow": null,
            "grid_area": null,
            "grid_template_columns": null,
            "flex": null,
            "_model_name": "LayoutModel",
            "justify_items": null,
            "grid_row": null,
            "max_height": null,
            "align_content": null,
            "visibility": null,
            "align_self": null,
            "height": null,
            "min_height": null,
            "padding": null,
            "grid_auto_rows": null,
            "grid_gap": null,
            "max_width": null,
            "order": null,
            "_view_module_version": "1.2.0",
            "grid_template_areas": null,
            "object_position": null,
            "object_fit": null,
            "grid_auto_columns": null,
            "margin": null,
            "display": null,
            "left": null
          }
        },
        "49713572cc2a4631ba34dee4ef042ca7": {
          "model_module": "@jupyter-widgets/controls",
          "model_name": "FloatProgressModel",
          "state": {
            "_view_name": "ProgressView",
            "style": "IPY_MODEL_50d6230fe68d4dce9e38d54141cb4eed",
            "_dom_classes": [],
            "description": "Dl Completed...: 100%",
            "_model_name": "FloatProgressModel",
            "bar_style": "success",
            "max": 4,
            "_view_module": "@jupyter-widgets/controls",
            "_model_module_version": "1.5.0",
            "value": 4,
            "_view_count": null,
            "_view_module_version": "1.5.0",
            "orientation": "horizontal",
            "min": 0,
            "description_tooltip": null,
            "_model_module": "@jupyter-widgets/controls",
            "layout": "IPY_MODEL_89d6e97b07ee4a548f18f3e80cf0de30"
          }
        },
        "20b7ec68f4f3457891138e162caa31a9": {
          "model_module": "@jupyter-widgets/controls",
          "model_name": "HTMLModel",
          "state": {
            "_view_name": "HTMLView",
            "style": "IPY_MODEL_af40fd9396ec4578b0505067ffd087a7",
            "_dom_classes": [],
            "description": "",
            "_model_name": "HTMLModel",
            "placeholder": "​",
            "_view_module": "@jupyter-widgets/controls",
            "_model_module_version": "1.5.0",
            "value": " 4/4 [01:29&lt;00:00, 22.36s/ file]",
            "_view_count": null,
            "_view_module_version": "1.5.0",
            "description_tooltip": null,
            "_model_module": "@jupyter-widgets/controls",
            "layout": "IPY_MODEL_465eb21cd8d9435f8f3f8533e6aef010"
          }
        },
        "50d6230fe68d4dce9e38d54141cb4eed": {
          "model_module": "@jupyter-widgets/controls",
          "model_name": "ProgressStyleModel",
          "state": {
            "_view_name": "StyleView",
            "_model_name": "ProgressStyleModel",
            "description_width": "initial",
            "_view_module": "@jupyter-widgets/base",
            "_model_module_version": "1.5.0",
            "_view_count": null,
            "_view_module_version": "1.2.0",
            "bar_color": null,
            "_model_module": "@jupyter-widgets/controls"
          }
        },
        "89d6e97b07ee4a548f18f3e80cf0de30": {
          "model_module": "@jupyter-widgets/base",
          "model_name": "LayoutModel",
          "state": {
            "_view_name": "LayoutView",
            "grid_template_rows": null,
            "right": null,
            "justify_content": null,
            "_view_module": "@jupyter-widgets/base",
            "overflow": null,
            "_model_module_version": "1.2.0",
            "_view_count": null,
            "flex_flow": null,
            "width": null,
            "min_width": null,
            "border": null,
            "align_items": null,
            "bottom": null,
            "_model_module": "@jupyter-widgets/base",
            "top": null,
            "grid_column": null,
            "overflow_y": null,
            "overflow_x": null,
            "grid_auto_flow": null,
            "grid_area": null,
            "grid_template_columns": null,
            "flex": null,
            "_model_name": "LayoutModel",
            "justify_items": null,
            "grid_row": null,
            "max_height": null,
            "align_content": null,
            "visibility": null,
            "align_self": null,
            "height": null,
            "min_height": null,
            "padding": null,
            "grid_auto_rows": null,
            "grid_gap": null,
            "max_width": null,
            "order": null,
            "_view_module_version": "1.2.0",
            "grid_template_areas": null,
            "object_position": null,
            "object_fit": null,
            "grid_auto_columns": null,
            "margin": null,
            "display": null,
            "left": null
          }
        },
        "af40fd9396ec4578b0505067ffd087a7": {
          "model_module": "@jupyter-widgets/controls",
          "model_name": "DescriptionStyleModel",
          "state": {
            "_view_name": "StyleView",
            "_model_name": "DescriptionStyleModel",
            "description_width": "",
            "_view_module": "@jupyter-widgets/base",
            "_model_module_version": "1.5.0",
            "_view_count": null,
            "_view_module_version": "1.2.0",
            "_model_module": "@jupyter-widgets/controls"
          }
        },
        "465eb21cd8d9435f8f3f8533e6aef010": {
          "model_module": "@jupyter-widgets/base",
          "model_name": "LayoutModel",
          "state": {
            "_view_name": "LayoutView",
            "grid_template_rows": null,
            "right": null,
            "justify_content": null,
            "_view_module": "@jupyter-widgets/base",
            "overflow": null,
            "_model_module_version": "1.2.0",
            "_view_count": null,
            "flex_flow": null,
            "width": null,
            "min_width": null,
            "border": null,
            "align_items": null,
            "bottom": null,
            "_model_module": "@jupyter-widgets/base",
            "top": null,
            "grid_column": null,
            "overflow_y": null,
            "overflow_x": null,
            "grid_auto_flow": null,
            "grid_area": null,
            "grid_template_columns": null,
            "flex": null,
            "_model_name": "LayoutModel",
            "justify_items": null,
            "grid_row": null,
            "max_height": null,
            "align_content": null,
            "visibility": null,
            "align_self": null,
            "height": null,
            "min_height": null,
            "padding": null,
            "grid_auto_rows": null,
            "grid_gap": null,
            "max_width": null,
            "order": null,
            "_view_module_version": "1.2.0",
            "grid_template_areas": null,
            "object_position": null,
            "object_fit": null,
            "grid_auto_columns": null,
            "margin": null,
            "display": null,
            "left": null
          }
        }
      }
    }
  },
  "cells": [
    {
      "cell_type": "code",
      "metadata": {
        "id": "4j3Z0KwDvtp6"
      },
      "source": [
        "import tensorflow as tf\n",
        "import tensorflow_datasets as tfds\n",
        "import numpy as np\n",
        "import matplotlib.pyplot as plt"
      ],
      "execution_count": 1,
      "outputs": []
    },
    {
      "cell_type": "code",
      "metadata": {
        "colab": {
          "base_uri": "https://localhost:8080/",
          "height": 202,
          "referenced_widgets": [
            "4ad07daaa14641068408e8cce7084b84",
            "7bc4bc0c99bf49d4a0d8acefc865e492",
            "49713572cc2a4631ba34dee4ef042ca7",
            "20b7ec68f4f3457891138e162caa31a9",
            "50d6230fe68d4dce9e38d54141cb4eed",
            "89d6e97b07ee4a548f18f3e80cf0de30",
            "af40fd9396ec4578b0505067ffd087a7",
            "465eb21cd8d9435f8f3f8533e6aef010"
          ]
        },
        "id": "ppXCYjsTzzHj",
        "outputId": "f66a74e7-010c-401d-cec6-f194d2be281f"
      },
      "source": [
        "# Load the mnist dataset.\n",
        "(original_train, original_test) = tfds.load('mnist', split=['train', 'test'], as_supervised=True)"
      ],
      "execution_count": 2,
      "outputs": [
        {
          "output_type": "stream",
          "text": [
            "\u001b[1mDownloading and preparing dataset mnist/3.0.1 (download: 11.06 MiB, generated: 21.00 MiB, total: 32.06 MiB) to /root/tensorflow_datasets/mnist/3.0.1...\u001b[0m\n"
          ],
          "name": "stdout"
        },
        {
          "output_type": "stream",
          "text": [
            "WARNING:absl:Dataset mnist is hosted on GCS. It will automatically be downloaded to your\n",
            "local data directory. If you'd instead prefer to read directly from our public\n",
            "GCS bucket (recommended if you're running on GCP), you can instead pass\n",
            "`try_gcs=True` to `tfds.load` or set `data_dir=gs://tfds-data/datasets`.\n",
            "\n"
          ],
          "name": "stderr"
        },
        {
          "output_type": "display_data",
          "data": {
            "application/vnd.jupyter.widget-view+json": {
              "model_id": "4ad07daaa14641068408e8cce7084b84",
              "version_minor": 0,
              "version_major": 2
            },
            "text/plain": [
              "HBox(children=(FloatProgress(value=0.0, description='Dl Completed...', max=4.0, style=ProgressStyle(descriptio…"
            ]
          },
          "metadata": {
            "tags": []
          }
        },
        {
          "output_type": "stream",
          "text": [
            "\n",
            "\n",
            "\u001b[1mDataset mnist downloaded and prepared to /root/tensorflow_datasets/mnist/3.0.1. Subsequent calls will reuse this data.\u001b[0m\n"
          ],
          "name": "stdout"
        }
      ]
    },
    {
      "cell_type": "code",
      "metadata": {
        "id": "Xwiok7Y00Jxn"
      },
      "source": [
        "# Helper functions\n",
        "def normalize_fn(img, label):\n",
        "  return tf.cast(img, tf.float32) / 255.0, label\n",
        "\n",
        "def filter_fn(img, label):\n",
        "  # Only keep 0 and 1 examples.\n",
        "  return tf.math.less_equal(label, tf.constant(1, dtype=tf.int64))"
      ],
      "execution_count": 203,
      "outputs": []
    },
    {
      "cell_type": "code",
      "metadata": {
        "id": "xit_JAJM01wB"
      },
      "source": [
        "ds_train0 = original_train.filter(filter_fn).map(normalize_fn, num_parallel_calls=tf.data.experimental.AUTOTUNE)\n",
        "ds_test0 = original_test.filter(filter_fn).map(normalize_fn, num_parallel_calls=tf.data.experimental.AUTOTUNE)"
      ],
      "execution_count": 204,
      "outputs": []
    },
    {
      "cell_type": "code",
      "metadata": {
        "id": "fgOfrQqQ1grH"
      },
      "source": [
        "def model_fn1():\n",
        "  model = tf.keras.models.Sequential([\n",
        "    tf.keras.layers.Flatten(input_shape=(28, 28, 1)),\n",
        "    tf.keras.layers.Dense(128, activation='relu'),\n",
        "    tf.keras.layers.Dropout(0.2),\n",
        "    tf.keras.layers.Dense(64, activation='relu'),\n",
        "    tf.keras.layers.Dense(1, activation='sigmoid')\n",
        "  ])\n",
        "  model.compile(\n",
        "    optimizer=tf.keras.optimizers.Adam(0.001),\n",
        "    loss=tf.keras.losses.BinaryCrossentropy(from_logits=False),\n",
        "    metrics=[tf.keras.metrics.BinaryAccuracy()]\n",
        "  )\n",
        "  return model\n",
        "\n",
        "def model_fn2():\n",
        "  model = tf.keras.models.Sequential([\n",
        "    tf.keras.layers.Conv2D(16, (3, 3), activation='relu', input_shape=(28, 28, 1)),\n",
        "    tf.keras.layers.MaxPooling2D((2, 2)),\n",
        "    tf.keras.layers.Dropout(0.2),\n",
        "    tf.keras.layers.Conv2D(32, (3, 3), activation='relu'),\n",
        "    tf.keras.layers.MaxPooling2D((2, 2)),\n",
        "    tf.keras.layers.Flatten(),\n",
        "    tf.keras.layers.Dense(64, activation='relu'),\n",
        "    tf.keras.layers.Dense(1, activation='sigmoid')\n",
        "  ])\n",
        "  model.compile(\n",
        "    optimizer=tf.keras.optimizers.Adam(0.001),\n",
        "    loss=tf.keras.losses.BinaryCrossentropy(from_logits=False),\n",
        "    metrics=[tf.keras.metrics.BinaryAccuracy()]\n",
        "  )\n",
        "  return model"
      ],
      "execution_count": 205,
      "outputs": []
    },
    {
      "cell_type": "code",
      "metadata": {
        "id": "1QPKe04fOHqd"
      },
      "source": [
        "def adversarial_examples(model, ds, epsilon=0.01, max_adversarial_steps=100, batch_size=64):\n",
        "  imgs_new = []\n",
        "  labels_new = []\n",
        "  steps = []\n",
        "  norm = []\n",
        "  ds = ds.batch(batch_size).prefetch(tf.data.experimental.AUTOTUNE)\n",
        "  model.trainable = False\n",
        "  for img, label in ds:\n",
        "    size = img.shape[0]\n",
        "    perturbation = tf.zeros([size, 28, 28, 1], dtype=tf.float32)\n",
        "    found = np.zeros(size)\n",
        "    img_new = img\n",
        "    for i in range(max_adversarial_steps):\n",
        "      img_new = tf.clip_by_value(tf.add(img_new, perturbation), clip_value_min=0, clip_value_max=1)\n",
        "      with tf.GradientTape() as tape:\n",
        "        tape.watch(img_new)\n",
        "        prediction = model(img_new)\n",
        "        loss = tf.keras.losses.BinaryCrossentropy()(label, prediction)\n",
        "      diff = np.absolute(prediction.numpy().reshape(size) - label.numpy())\n",
        "      for j in range(size):\n",
        "        if diff[j] > 0.5 and found[j] == 0:\n",
        "          found[j] = 1\n",
        "          imgs_new.append(tf.reshape(img_new[j], [28, 28, 1]))\n",
        "          labels_new.append(tf.cast(label.numpy()[j], tf.int64))\n",
        "          steps.append(i)\n",
        "          norm.append(tf.norm(tf.subtract(img[j], img_new[j])).numpy())\n",
        "      if np.sum(found) == size:\n",
        "        break\n",
        "      gradient = tape.gradient(loss, img_new)\n",
        "      perturbation = tf.sign(gradient) * epsilon\n",
        "    #for k in range(size):\n",
        "      #if found[k] == 0:\n",
        "        # Can't find adversarial examples within max_adversarial_steps.\n",
        "        #steps.append(max_adversarial_steps)\n",
        "        #norm.append(tf.norm(tf.ones([28, 28, 1], dtype=tf.float32)).numpy())\n",
        "  model.trainable = True\n",
        "  return imgs_new, labels_new, np.mean(steps), np.mean(norm)\n",
        "\n"
      ],
      "execution_count": 318,
      "outputs": []
    },
    {
      "cell_type": "code",
      "metadata": {
        "id": "WGmONvTt2F17"
      },
      "source": [
        "def adversarial_training(model_fn, ds_train0, ds_test0, iteration=3, epoch_per_iteration=5, epsilon=0.01, max_adversarial_steps=100, batch_size=64):\n",
        "  '''\n",
        "  args:\n",
        "    model_fn: the function to create a new model.\n",
        "    ds_train0: the original training dataset.\n",
        "    ds_test0: the original test dataset.\n",
        "  returns:\n",
        "    models: the trained models.\n",
        "    ds_train: the cumulative training datasets.\n",
        "    histories: the model training histories.\n",
        "    avg_adversarial_steps: the average steps to generate an adversarial example.\n",
        "    avg_norm: the average norm of the perturbation.\n",
        "    adversarial_found: the number of adversarial examples found in each iteration.\n",
        "  '''\n",
        "  models = []\n",
        "  ds_train = [ds_train0]\n",
        "  histories = []\n",
        "  avg_adversarial_steps = []\n",
        "  avg_norm = []\n",
        "  adversarial_found = []\n",
        "  test = ds_test0.shuffle(1000).batch(batch_size).prefetch(tf.data.experimental.AUTOTUNE)\n",
        "  for i in range(iteration):\n",
        "    print('Running training in iteration {}:'.format(i))\n",
        "    train = tf.data.experimental.sample_from_datasets(ds_train)\n",
        "    train = train.shuffle(1000).batch(batch_size).prefetch(tf.data.experimental.AUTOTUNE)\n",
        "    model = model_fn()\n",
        "    history = model.fit(train, epochs=epoch_per_iteration, validation_data=test)\n",
        "    models.append(model)\n",
        "    histories.append(history)\n",
        "    print('Generating adversarial examples in iteration {}'.format(i))\n",
        "    imgs_new, labels_new, steps, norm = adversarial_examples(model, ds_train0, epsilon=epsilon, max_adversarial_steps=max_adversarial_steps, batch_size=batch_size)\n",
        "    if len(imgs_new) == 0:\n",
        "      print('Could not generate any more adversarial examples at iteration {}'.format(i))\n",
        "      break\n",
        "    else:\n",
        "      print('Avg steps: {}; avg norm: {}'.format(steps, norm))\n",
        "    ds_train.append(tf.data.Dataset.from_tensor_slices((imgs_new, labels_new)))\n",
        "    avg_adversarial_steps.append(steps)\n",
        "    avg_norm.append(norm)\n",
        "    adversarial_found.append(len(imgs_new))\n",
        "  return models, ds_train, histories, avg_adversarial_steps, avg_norm, adversarial_found"
      ],
      "execution_count": 322,
      "outputs": []
    },
    {
      "cell_type": "code",
      "metadata": {
        "colab": {
          "base_uri": "https://localhost:8080/",
          "height": 1000
        },
        "id": "I9hP6Epl51m2",
        "outputId": "484f0ff8-8473-4af3-e4f9-75be44fa1cc0"
      },
      "source": [
        "models, ds_train, histories, avg_adversarial_steps, avg_norm, adv = adversarial_training(model_fn1, ds_train0, ds_test0, iteration=10, epoch_per_iteration=5)"
      ],
      "execution_count": 321,
      "outputs": [
        {
          "output_type": "stream",
          "text": [
            "Running training in iteration 0:\n",
            "Epoch 1/5\n",
            "198/198 [==============================] - 3s 14ms/step - loss: 0.0789 - binary_accuracy: 0.9789 - val_loss: 0.0044 - val_binary_accuracy: 0.9986\n",
            "Epoch 2/5\n",
            "198/198 [==============================] - 3s 14ms/step - loss: 0.0025 - binary_accuracy: 0.9993 - val_loss: 0.0015 - val_binary_accuracy: 0.9995\n",
            "Epoch 3/5\n",
            "198/198 [==============================] - 3s 13ms/step - loss: 0.0015 - binary_accuracy: 0.9997 - val_loss: 0.0031 - val_binary_accuracy: 0.9995\n",
            "Epoch 4/5\n",
            "198/198 [==============================] - 3s 13ms/step - loss: 6.8099e-04 - binary_accuracy: 0.9999 - val_loss: 0.0042 - val_binary_accuracy: 0.9991\n",
            "Epoch 5/5\n",
            "198/198 [==============================] - 3s 13ms/step - loss: 0.0017 - binary_accuracy: 0.9994 - val_loss: 0.0023 - val_binary_accuracy: 0.9995\n",
            "Generating adversarial examples in iteration 0\n",
            "Avg steps: 13.975486827033219; avg norm: 2.7194321155548096\n",
            "Running training in iteration 1:\n",
            "Epoch 1/5\n",
            "335/335 [==============================] - 4s 9ms/step - loss: 0.0652 - binary_accuracy: 0.9802 - val_loss: 0.0019 - val_binary_accuracy: 0.9991\n",
            "Epoch 2/5\n",
            "335/335 [==============================] - 3s 9ms/step - loss: 0.0030 - binary_accuracy: 0.9989 - val_loss: 0.0018 - val_binary_accuracy: 0.9986\n",
            "Epoch 3/5\n",
            "335/335 [==============================] - 3s 9ms/step - loss: 9.9313e-04 - binary_accuracy: 0.9998 - val_loss: 0.0037 - val_binary_accuracy: 0.9991\n",
            "Epoch 4/5\n",
            "335/335 [==============================] - 3s 9ms/step - loss: 8.9684e-04 - binary_accuracy: 0.9997 - val_loss: 6.7864e-04 - val_binary_accuracy: 0.9995\n",
            "Epoch 5/5\n",
            "335/335 [==============================] - 3s 8ms/step - loss: 1.7619e-04 - binary_accuracy: 1.0000 - val_loss: 0.0070 - val_binary_accuracy: 0.9991\n",
            "Generating adversarial examples in iteration 1\n",
            "Avg steps: 6.5831792975970425; avg norm: 1.3199187517166138\n",
            "Running training in iteration 2:\n",
            "Epoch 1/5\n",
            "402/402 [==============================] - 4s 8ms/step - loss: 0.0572 - binary_accuracy: 0.9785 - val_loss: 0.0027 - val_binary_accuracy: 0.9991\n",
            "Epoch 2/5\n",
            "402/402 [==============================] - 3s 7ms/step - loss: 0.0036 - binary_accuracy: 0.9988 - val_loss: 0.0048 - val_binary_accuracy: 0.9991\n",
            "Epoch 3/5\n",
            "402/402 [==============================] - 3s 7ms/step - loss: 0.0011 - binary_accuracy: 0.9998 - val_loss: 8.8181e-04 - val_binary_accuracy: 0.9995\n",
            "Epoch 4/5\n",
            "402/402 [==============================] - 3s 8ms/step - loss: 9.6108e-04 - binary_accuracy: 0.9997 - val_loss: 0.0063 - val_binary_accuracy: 0.9981\n",
            "Epoch 5/5\n",
            "402/402 [==============================] - 3s 8ms/step - loss: 6.8966e-04 - binary_accuracy: 0.9999 - val_loss: 0.0064 - val_binary_accuracy: 0.9991\n",
            "Generating adversarial examples in iteration 2\n",
            "Avg steps: 6.918559794256322; avg norm: 1.3677293062210083\n",
            "Running training in iteration 3:\n",
            "Epoch 1/5\n",
            "439/439 [==============================] - 4s 7ms/step - loss: 0.0785 - binary_accuracy: 0.9691 - val_loss: 0.0015 - val_binary_accuracy: 0.9995\n",
            "Epoch 2/5\n",
            "439/439 [==============================] - 3s 7ms/step - loss: 0.0040 - binary_accuracy: 0.9990 - val_loss: 0.0035 - val_binary_accuracy: 0.9991\n",
            "Epoch 3/5\n",
            "439/439 [==============================] - 3s 7ms/step - loss: 0.0019 - binary_accuracy: 0.9994 - val_loss: 0.0027 - val_binary_accuracy: 0.9991\n",
            "Epoch 4/5\n",
            "439/439 [==============================] - 3s 7ms/step - loss: 8.8725e-04 - binary_accuracy: 0.9998 - val_loss: 0.0043 - val_binary_accuracy: 0.9986\n",
            "Epoch 5/5\n",
            "439/439 [==============================] - 3s 7ms/step - loss: 0.0030 - binary_accuracy: 0.9992 - val_loss: 6.9265e-04 - val_binary_accuracy: 1.0000\n",
            "Generating adversarial examples in iteration 3\n",
            "Avg steps: 9.559090909090909; avg norm: 1.8132301568984985\n",
            "Running training in iteration 4:\n",
            "Epoch 1/5\n",
            "470/470 [==============================] - 4s 7ms/step - loss: 0.0726 - binary_accuracy: 0.9739 - val_loss: 8.8215e-04 - val_binary_accuracy: 1.0000\n",
            "Epoch 2/5\n",
            "470/470 [==============================] - 3s 7ms/step - loss: 0.0050 - binary_accuracy: 0.9984 - val_loss: 0.0018 - val_binary_accuracy: 0.9991\n",
            "Epoch 3/5\n",
            "470/470 [==============================] - 3s 7ms/step - loss: 0.0028 - binary_accuracy: 0.9989 - val_loss: 6.7991e-04 - val_binary_accuracy: 0.9995\n",
            "Epoch 4/5\n",
            "470/470 [==============================] - 3s 7ms/step - loss: 7.8127e-04 - binary_accuracy: 0.9997 - val_loss: 7.7241e-05 - val_binary_accuracy: 1.0000\n",
            "Epoch 5/5\n",
            "470/470 [==============================] - 3s 7ms/step - loss: 0.0028 - binary_accuracy: 0.9992 - val_loss: 8.8282e-04 - val_binary_accuracy: 0.9995\n",
            "Generating adversarial examples in iteration 4\n",
            "Avg steps: 10.856799037304452; avg norm: 1.976809024810791\n",
            "Running training in iteration 5:\n",
            "Epoch 1/5\n",
            "496/496 [==============================] - 4s 7ms/step - loss: 0.0845 - binary_accuracy: 0.9653 - val_loss: 0.0023 - val_binary_accuracy: 0.9991\n",
            "Epoch 2/5\n",
            "496/496 [==============================] - 4s 7ms/step - loss: 0.0075 - binary_accuracy: 0.9981 - val_loss: 0.0023 - val_binary_accuracy: 0.9995\n",
            "Epoch 3/5\n",
            "496/496 [==============================] - 4s 7ms/step - loss: 0.0032 - binary_accuracy: 0.9992 - val_loss: 0.0024 - val_binary_accuracy: 0.9995\n",
            "Epoch 4/5\n",
            "496/496 [==============================] - 4s 7ms/step - loss: 0.0015 - binary_accuracy: 0.9995 - val_loss: 0.0028 - val_binary_accuracy: 0.9995\n",
            "Epoch 5/5\n",
            "496/496 [==============================] - 4s 7ms/step - loss: 0.0012 - binary_accuracy: 0.9995 - val_loss: 0.0036 - val_binary_accuracy: 0.9995\n",
            "Generating adversarial examples in iteration 5\n",
            "Avg steps: 8.574365175332527; avg norm: 1.6423959732055664\n",
            "Running training in iteration 6:\n",
            "Epoch 1/5\n",
            "509/509 [==============================] - 4s 7ms/step - loss: 0.0807 - binary_accuracy: 0.9748 - val_loss: 0.0024 - val_binary_accuracy: 0.9991\n",
            "Epoch 2/5\n",
            "509/509 [==============================] - 4s 7ms/step - loss: 0.0073 - binary_accuracy: 0.9970 - val_loss: 0.0031 - val_binary_accuracy: 0.9995\n",
            "Epoch 3/5\n",
            "509/509 [==============================] - 4s 7ms/step - loss: 0.0021 - binary_accuracy: 0.9992 - val_loss: 0.0045 - val_binary_accuracy: 0.9995\n",
            "Epoch 4/5\n",
            "509/509 [==============================] - 4s 7ms/step - loss: 0.0013 - binary_accuracy: 0.9997 - val_loss: 0.0039 - val_binary_accuracy: 0.9995\n",
            "Epoch 5/5\n",
            "509/509 [==============================] - 4s 7ms/step - loss: 0.0015 - binary_accuracy: 0.9995 - val_loss: 0.0029 - val_binary_accuracy: 0.9995\n",
            "Generating adversarial examples in iteration 6\n",
            "Avg steps: 8.425894378194208; avg norm: 1.6372220516204834\n",
            "Running training in iteration 7:\n",
            "Epoch 1/5\n",
            "518/518 [==============================] - 4s 7ms/step - loss: 0.0893 - binary_accuracy: 0.9710 - val_loss: 0.0025 - val_binary_accuracy: 0.9995\n",
            "Epoch 2/5\n",
            "518/518 [==============================] - 4s 7ms/step - loss: 0.0123 - binary_accuracy: 0.9964 - val_loss: 0.0022 - val_binary_accuracy: 0.9995\n",
            "Epoch 3/5\n",
            "518/518 [==============================] - 4s 7ms/step - loss: 0.0030 - binary_accuracy: 0.9990 - val_loss: 6.5236e-04 - val_binary_accuracy: 0.9995\n",
            "Epoch 4/5\n",
            "518/518 [==============================] - 4s 7ms/step - loss: 0.0016 - binary_accuracy: 0.9995 - val_loss: 0.0021 - val_binary_accuracy: 0.9995\n",
            "Epoch 5/5\n",
            "518/518 [==============================] - 4s 7ms/step - loss: 0.0020 - binary_accuracy: 0.9995 - val_loss: 9.5569e-04 - val_binary_accuracy: 0.9995\n",
            "Generating adversarial examples in iteration 7\n",
            "Avg steps: 11.917491749174918; avg norm: 2.240108013153076\n",
            "Running training in iteration 8:\n",
            "Epoch 1/5\n",
            "527/527 [==============================] - 4s 7ms/step - loss: 0.0818 - binary_accuracy: 0.9769 - val_loss: 0.0024 - val_binary_accuracy: 0.9991\n",
            "Epoch 2/5\n",
            "527/527 [==============================] - 4s 7ms/step - loss: 0.0108 - binary_accuracy: 0.9960 - val_loss: 0.0026 - val_binary_accuracy: 0.9995\n",
            "Epoch 3/5\n",
            "527/527 [==============================] - 4s 7ms/step - loss: 0.0025 - binary_accuracy: 0.9994 - val_loss: 8.3152e-04 - val_binary_accuracy: 0.9995\n",
            "Epoch 4/5\n",
            "527/527 [==============================] - 4s 7ms/step - loss: 0.0028 - binary_accuracy: 0.9990 - val_loss: 0.0035 - val_binary_accuracy: 0.9995\n",
            "Epoch 5/5\n",
            "527/527 [==============================] - 4s 7ms/step - loss: 0.0023 - binary_accuracy: 0.9991 - val_loss: 0.0019 - val_binary_accuracy: 0.9995\n",
            "Generating adversarial examples in iteration 8\n",
            "Avg steps: 10.328068043742405; avg norm: 1.9903441667556763\n",
            "Running training in iteration 9:\n",
            "Epoch 1/5\n",
            "540/540 [==============================] - 5s 8ms/step - loss: 0.0909 - binary_accuracy: 0.9611 - val_loss: 0.0020 - val_binary_accuracy: 0.9995\n",
            "Epoch 2/5\n",
            "540/540 [==============================] - 4s 7ms/step - loss: 0.0090 - binary_accuracy: 0.9970 - val_loss: 0.0022 - val_binary_accuracy: 0.9995\n",
            "Epoch 3/5\n",
            "540/540 [==============================] - 4s 7ms/step - loss: 0.0037 - binary_accuracy: 0.9989 - val_loss: 0.0023 - val_binary_accuracy: 0.9995\n",
            "Epoch 4/5\n",
            "540/540 [==============================] - 4s 7ms/step - loss: 0.0023 - binary_accuracy: 0.9992 - val_loss: 0.0041 - val_binary_accuracy: 0.9995\n",
            "Epoch 5/5\n",
            "540/540 [==============================] - 4s 8ms/step - loss: 0.0033 - binary_accuracy: 0.9992 - val_loss: 4.4720e-05 - val_binary_accuracy: 1.0000\n",
            "Generating adversarial examples in iteration 9\n",
            "Avg steps: 10.1484375; avg norm: 1.9642828702926636\n"
          ],
          "name": "stdout"
        },
        {
          "output_type": "error",
          "ename": "ValueError",
          "evalue": "ignored",
          "traceback": [
            "\u001b[0;31m---------------------------------------------------------------------------\u001b[0m",
            "\u001b[0;31mValueError\u001b[0m                                Traceback (most recent call last)",
            "\u001b[0;32m<ipython-input-321-792ab28a7a9f>\u001b[0m in \u001b[0;36m<module>\u001b[0;34m()\u001b[0m\n\u001b[0;32m----> 1\u001b[0;31m \u001b[0mmodels\u001b[0m\u001b[0;34m,\u001b[0m \u001b[0mds_train\u001b[0m\u001b[0;34m,\u001b[0m \u001b[0mhistories\u001b[0m\u001b[0;34m,\u001b[0m \u001b[0mavg_adversarial_steps\u001b[0m\u001b[0;34m,\u001b[0m \u001b[0mavg_norm\u001b[0m\u001b[0;34m,\u001b[0m \u001b[0madv\u001b[0m \u001b[0;34m=\u001b[0m \u001b[0madversarial_training\u001b[0m\u001b[0;34m(\u001b[0m\u001b[0mmodel_fn1\u001b[0m\u001b[0;34m,\u001b[0m \u001b[0mds_train0\u001b[0m\u001b[0;34m,\u001b[0m \u001b[0mds_test0\u001b[0m\u001b[0;34m,\u001b[0m \u001b[0miteration\u001b[0m\u001b[0;34m=\u001b[0m\u001b[0;36m10\u001b[0m\u001b[0;34m,\u001b[0m \u001b[0mepoch_per_iteration\u001b[0m\u001b[0;34m=\u001b[0m\u001b[0;36m5\u001b[0m\u001b[0;34m)\u001b[0m\u001b[0;34m\u001b[0m\u001b[0;34m\u001b[0m\u001b[0m\n\u001b[0m",
            "\u001b[0;31mValueError\u001b[0m: not enough values to unpack (expected 6, got 5)"
          ]
        }
      ]
    },
    {
      "cell_type": "code",
      "metadata": {
        "colab": {
          "base_uri": "https://localhost:8080/",
          "height": 350
        },
        "id": "yXi2rsi1e5s0",
        "outputId": "b468ce16-c777-40f1-83d2-738b0e114cd0"
      },
      "source": [
        "fig, axs = plt.subplots(1, 2, figsize=(12, 5))\n",
        "x = range(1, 11)\n",
        "axs[0].plot(x, avg_adversarial_steps, '-*')\n",
        "axs[0].set_xlabel('iteration')\n",
        "axs[0].set_title('average step count (max included)')\n",
        "axs[0].set_xticks(np.arange(min(x), max(x)+1, 1.0))\n",
        "axs[1].plot(x, avg_norm, '-*')\n",
        "axs[1].set_xlabel('iteration')\n",
        "axs[1].set_title('average perturbation norm (max included)')\n",
        "axs[1].set_xticks(np.arange(min(x), max(x)+1, 1.0))\n",
        "plt.show()"
      ],
      "execution_count": 329,
      "outputs": [
        {
          "output_type": "display_data",
          "data": {
            "image/png": "[encoded data removed]",
            "text/plain": [
              "<Figure size 864x360 with 2 Axes>"
            ]
          },
          "metadata": {
            "tags": [],
            "needs_background": "light"
          }
        }
      ]
    },
    {
      "cell_type": "code",
      "metadata": {
        "colab": {
          "base_uri": "https://localhost:8080/",
          "height": 350
        },
        "id": "v6_sLoVOVMYs",
        "outputId": "1648538c-b0c0-46da-b13d-94cd0d91ff01"
      },
      "source": [
        "found_avg_adversarial_steps = [13.975486827033219, 6.5831792975970425, 6.918559794256322, 9.559090909090909, 10.856799037304452, 8.574365175332527, 8.425894378194208, 11.917491749174918, 10.328068043742405, 10.1484375]\n",
        "found_avg_norm = [2.7194321155548096, 1.3199187517166138, 1.3677293062210083, 1.8132301568984985, 1.976809024810791, 1.6423959732055664, 1.6372220516204834, 2.240108013153076, 1.9903441667556763, 1.9642828702926636]\n",
        "fig, axs = plt.subplots(1, 2, figsize=(12, 5))\n",
        "x = range(1, 11)\n",
        "axs[0].plot(x, found_avg_adversarial_steps, '-*')\n",
        "axs[0].set_xlabel('iteration')\n",
        "axs[0].set_title('average step count (found only)')\n",
        "axs[0].set_xticks(np.arange(min(x), max(x)+1, 1.0))\n",
        "axs[1].plot(x, found_avg_norm, '-*')\n",
        "axs[1].set_xlabel('iteration')\n",
        "axs[1].set_title('average perturbation norm (found only)')\n",
        "axs[1].set_xticks(np.arange(min(x), max(x)+1, 1.0))\n",
        "plt.show()"
      ],
      "execution_count": 330,
      "outputs": [
        {
          "output_type": "display_data",
          "data": {
            "image/png": "[encoded data removed]",
            "text/plain": [
              "<Figure size 864x360 with 2 Axes>"
            ]
          },
          "metadata": {
            "tags": [],
            "needs_background": "light"
          }
        }
      ]
    },
    {
      "cell_type": "code",
      "metadata": {
        "colab": {
          "base_uri": "https://localhost:8080/"
        },
        "id": "R55CwxcjQsJP",
        "outputId": "83fc2d18-2875-4410-fa8f-e473873e0517"
      },
      "source": [
        "total = 0.0\n",
        "for img, label in ds_train0:\n",
        "  total += 1\n",
        "print(total)\n"
      ],
      "execution_count": 324,
      "outputs": [
        {
          "output_type": "stream",
          "text": [
            "12665.0\n"
          ],
          "name": "stdout"
        }
      ]
    },
    {
      "cell_type": "code",
      "metadata": {
        "id": "GRONqseEUdRA"
      },
      "source": [
        "adv = []\n",
        "for i in range(1, 11):\n",
        "  t = 0.0\n",
        "  for img, label in ds_train[i]:\n",
        "    t += 1\n",
        "  adv.append(t/total*100)"
      ],
      "execution_count": 326,
      "outputs": []
    },
    {
      "cell_type": "code",
      "metadata": {
        "colab": {
          "base_uri": "https://localhost:8080/",
          "height": 295
        },
        "id": "rOPlvZOaPVWv",
        "outputId": "81b5ea23-0923-4079-a67a-10e1c97b6547"
      },
      "source": [
        "plt.bar(range(1, 11), adv)\n",
        "plt.xticks(np.arange(1, 11, 1.0))\n",
        "plt.xlabel('iteration')\n",
        "plt.ylabel('% found')\n",
        "plt.title('% of original examples that have adversaries')\n",
        "plt.show()"
      ],
      "execution_count": 328,
      "outputs": [
        {
          "output_type": "display_data",
          "data": {
            "image/png": "[encoded data removed]",
            "text/plain": [
              "<Figure size 432x288 with 1 Axes>"
            ]
          },
          "metadata": {
            "tags": [],
            "needs_background": "light"
          }
        }
      ]
    },
    {
      "cell_type": "code",
      "metadata": {
        "colab": {
          "base_uri": "https://localhost:8080/",
          "height": 295
        },
        "id": "lGTmWpr-xJx6",
        "outputId": "f6060ed5-1d4c-4af7-b526-bd7927ff847b"
      },
      "source": [
        "x = range(1, 11)\n",
        "t_accuracy = [ x.history['binary_accuracy'][4] for x in histories]\n",
        "v_accuracy = [ x.history['val_binary_accuracy'][4] for x in histories]\n",
        "plt.plot(x, t_accuracy, '-*', label='train')\n",
        "plt.plot(x, v_accuracy, '-^', label='validation')\n",
        "plt.legend()\n",
        "plt.xlabel('iteration')\n",
        "plt.title('accuracy')\n",
        "plt.xticks(np.arange(min(x), max(x)+1, 1.0))\n",
        "plt.show()"
      ],
      "execution_count": 315,
      "outputs": [
        {
          "output_type": "display_data",
          "data": {
            "image/png": "[encoded data removed]",
            "text/plain": [
              "<Figure size 432x288 with 1 Axes>"
            ]
          },
          "metadata": {
            "tags": [],
            "needs_background": "light"
          }
        }
      ]
    },
    {
      "cell_type": "code",
      "metadata": {
        "colab": {
          "base_uri": "https://localhost:8080/"
        },
        "id": "mSBfd-Wm0Knn",
        "outputId": "0f8a099f-6886-4369-cfa5-8ccb7c709eb8"
      },
      "source": [
        "def keep0(img, label):\n",
        "  return tf.math.equal(label, tf.constant(0, dtype=tf.int64))\n",
        "def keep1(img, label):\n",
        "  return tf.math.equal(label, tf.constant(1, dtype=tf.int64))\n",
        "print(len(ds_train))"
      ],
      "execution_count": 292,
      "outputs": [
        {
          "output_type": "stream",
          "text": [
            "11\n"
          ],
          "name": "stdout"
        }
      ]
    },
    {
      "cell_type": "code",
      "metadata": {
        "id": "v4Ga9tFG5o8d"
      },
      "source": [
        "def find_img(ds, models, filter_fn):\n",
        "  '''\n",
        "  Find and return images that have adversarial examples across the models.\n",
        "  '''\n",
        "  ds = ds.filter(filter_fn).batch(1).prefetch(tf.data.experimental.AUTOTUNE)\n",
        "  for img, label in ds:\n",
        "    d = tf.data.Dataset.from_tensor_slices((img, label))\n",
        "    imgs = [img.numpy().reshape(28, 28)]\n",
        "    for i in range(len(models)-1):\n",
        "      imgs_new, labels_new, s, n = adversarial_examples(models[i], d)\n",
        "      if len(imgs_new) == 0:\n",
        "        break\n",
        "      else:\n",
        "        imgs.append(imgs_new[0].numpy().reshape(28, 28))\n",
        "    if len(imgs) == len(models):\n",
        "      return imgs\n",
        "  return []\n"
      ],
      "execution_count": 307,
      "outputs": []
    },
    {
      "cell_type": "code",
      "metadata": {
        "id": "Nqfi5VrgKo_c"
      },
      "source": [
        "imgs = find_img(ds_train0, models, keep0)"
      ],
      "execution_count": 308,
      "outputs": []
    },
    {
      "cell_type": "code",
      "metadata": {
        "id": "2QhJgGBFKvGs"
      },
      "source": [
        "def display(imgs):\n",
        "  fig, axs = plt.subplots(2, 5, figsize=(20, 10))\n",
        "  for i in range(10):\n",
        "    row = int(i / 5)\n",
        "    col = i % 5\n",
        "    axs[row][col].imshow(imgs[i], cmap='gray')\n",
        "    axs[row][col].axis('off')\n",
        "    if i == 0:\n",
        "      axs[row][col].set_title('original')\n",
        "    else:\n",
        "      axs[row][col].set_title('iteration {}'.format(i))\n",
        "  plt.show()"
      ],
      "execution_count": 311,
      "outputs": []
    },
    {
      "cell_type": "code",
      "metadata": {
        "colab": {
          "base_uri": "https://localhost:8080/",
          "height": 536
        },
        "id": "xnMjt1p7KwF2",
        "outputId": "bfc4f7be-da9a-481a-8bb3-03345a5b8ddf"
      },
      "source": [
        "display(imgs)"
      ],
      "execution_count": 312,
      "outputs": [
        {
          "output_type": "display_data",
          "data": {
            "image/png": "[encoded data removed]",
            "text/plain": [
              "<Figure size 1440x720 with 10 Axes>"
            ]
          },
          "metadata": {
            "tags": [],
            "needs_background": "light"
          }
        }
      ]
    },
    {
      "cell_type": "code",
      "metadata": {
        "id": "YuwFAobyL0L1"
      },
      "source": [
        "imgs = find_img(ds_train0, models, keep1)"
      ],
      "execution_count": 313,
      "outputs": []
    },
    {
      "cell_type": "code",
      "metadata": {
        "colab": {
          "base_uri": "https://localhost:8080/",
          "height": 536
        },
        "id": "qWs1avY8L7G9",
        "outputId": "813b61c4-ac38-4a88-d37b-254bb5be32c6"
      },
      "source": [
        "display(imgs)"
      ],
      "execution_count": 314,
      "outputs": [
        {
          "output_type": "display_data",
          "data": {
            "image/png": "[encoded data removed]",
            "text/plain": [
              "<Figure size 1440x720 with 10 Axes>"
            ]
          },
          "metadata": {
            "tags": [],
            "needs_background": "light"
          }
        }
      ]
    },
    {
      "cell_type": "code",
      "metadata": {
        "id": "OaA6YquNMKo1"
      },
      "source": [
        ""
      ],
      "execution_count": null,
      "outputs": []
    }
  ]
}