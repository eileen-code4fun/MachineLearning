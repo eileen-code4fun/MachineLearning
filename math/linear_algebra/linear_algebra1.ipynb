{
 "cells": [
  {
   "cell_type": "markdown",
   "id": "e998b9f4",
   "metadata": {},
   "source": [
    "# Basic Notations\n",
    "\n",
    "$\\mathbb{Z}$ denotes the set of all integers, such as -2, -1, 0, 1, 2, etc\n",
    "\n",
    "$\\mathbb{R}$ denotes the set of all real numbers, such as $\\sqrt{2}$, $\\pi$, 5.4, -53.9, etc\n",
    "\n",
    "$\\mathbb{C}$ denotes the set of all complex numbers, such as 3+i, -1-4i, i, etc."
   ]
  },
  {
   "cell_type": "markdown",
   "id": "bd9e44d6",
   "metadata": {},
   "source": [
    "# Vector\n",
    "\n",
    "A vector is a mathematical object with a magnitude and direction, denoted as a lowercase bold letter such as $\\mathbf{v}$, or a letter with an arrow on top $\\vec{a}$. Geometrically, vectors with 2 components and 3 components can be thought of as arrows in 2-dimensional  space and 3-dimensional space respectively, with their tails at the origin. The tail of a vector can be anywhere in the space. Having it at the origin is called the standard position of the vector."
   ]
  },
  {
   "cell_type": "code",
   "execution_count": 2,
   "id": "60b459f7",
   "metadata": {},
   "outputs": [
    {
     "data": {
      "image/png": "[encoded data removed]",
      "text/plain": [
       "<Figure size 432x288 with 2 Axes>"
      ]
     },
     "metadata": {
      "needs_background": "light"
     },
     "output_type": "display_data"
    }
   ],
   "source": [
    "%matplotlib inline\n",
    "\n",
    "import matplotlib.pyplot as plt\n",
    "import numpy as np\n",
    "\n",
    "ax1 = plt.subplot(1, 2, 1)\n",
    "ax1.quiver(0, 0, 1.5, 1, scale=1, units='xy', headwidth=10, headlength=10)\n",
    "ax1.set_aspect('equal')\n",
    "ax1.set_xlim([-2, 2])\n",
    "ax1.set_ylim([-2, 2])\n",
    "ax1.grid()\n",
    "ax1.set_title('2D vector')\n",
    "ax2 = plt.subplot(1, 2, 2, projection='3d')\n",
    "ax2.quiver(0, 0, 0, 1, 1, 1)\n",
    "ax2.set_xlim3d([0, 1.5])\n",
    "ax2.set_ylim3d([0, 1.5])\n",
    "ax2.set_zlim3d([0, 1.5])\n",
    "ax2.set_title('3D vector')\n",
    "plt.show()"
   ]
  },
  {
   "cell_type": "markdown",
   "id": "e54474ff",
   "metadata": {},
   "source": [
    "More generally, a vector $\\mathbf{v}$ can be of n dimensions, i.e, have n components:\n",
    "$\n",
    "\\mathbf{v}=\n",
    "\\begin{bmatrix} v_1 \\\\ v_2 \\\\ \\vdots \\\\ v_n \\end{bmatrix}\n",
    "$\n",
    "\n",
    "It's worth noting that though the components of a vector are real in many cases, they can be complex number as well, for example:\n",
    "$\n",
    "\\mathbf{u}=\n",
    "\\begin{bmatrix} 3+i \\\\ -i \\\\ 1-6i \\end{bmatrix}\n",
    "$"
   ]
  },
  {
   "cell_type": "markdown",
   "id": "ae91c7b2",
   "metadata": {},
   "source": [
    "There is a more generic term about vector, which is tensor. Yes, the \"tensor\" in \"tensorflow\". Tensors are multi-indexed arrays of components. The number of indice is called the order of the tensor. 0-tensor is scalar. 1-tensor is vector, 2-tensor is matrix. You can call 3-tensor a 3D cube. But really, for tensors of 3+ order, we just call them n-tensor. In linear algebra, we'll be mainly looking at vectors and matrixes."
   ]
  },
  {
   "cell_type": "markdown",
   "id": "8d4d98ae",
   "metadata": {},
   "source": [
    "# Linear Operations\n",
    "\n",
    "Coming back to vector, let's define some typical operations. You can add two vectors or subtract one from the other, assuming that the two vectors have the same dimension otherwise the addition and subtraction are not defined. Vector addition and subtraction are performed component-wise.\n",
    "\n",
    "$\\mathbf{a}+\\mathbf{b}=\\mathbf{c}$, where $c_i=a_i+b_i$. $\\mathbf{a}-\\mathbf{b}=\\mathbf{c}$, where $c_i=a_i-b_i$\n",
    "\n",
    "We can also multiple a vector by a scalar, in which the multiplication distributes to each vector component.\n",
    "\n",
    "$s\\mathbf{a}=\\mathbf{b}$, where $b_i=a_is$\n",
    "\n",
    "Both vector addition and vector scalar multiplication are communicative and assosiative.\n",
    "\n",
    "$\\mathbf{a}+\\mathbf{b}=\\mathbf{b}+\\mathbf{a}$, $(\\mathbf{a}+\\mathbf{b})+\\mathbf{c}=\\mathbf{a}+(\\mathbf{b}+\\mathbf{c})$\n",
    "\n",
    "$\\mathbf{a}s=s\\mathbf{a}$, $(s_1s_2)\\mathbf{a}=s_1(s_2\\mathbf{a})$\n",
    "\n",
    "In a sense, subtraction is addition of one vector and the negation (or multiplication of -1) of another vector.\n",
    "\n",
    "$\\mathbf{a}-\\mathbf{b}=\\mathbf{a}+(-\\mathbf{b})$\n",
    "\n",
    "\n",
    "Multiplication by scalar is also distributive with regards to addition.\n",
    "\n",
    "$s(\\mathbf{a}+\\mathbf{b})=s\\mathbf{a}+s\\mathbf{b}$\n",
    "\n",
    "Addition, subtraction, and multiplication by scalar all have their corresponding geometric meaning. Addition is like placing the tail of a vector at the head of another vecotor. Multiplication by scalar is scaling the magnitude of the veoctor with its direction unchanged. As we saw above, subtraction can be thought of as the combination of addition and multiplication by scalar. Using the 2 dimensional space for an illustration."
   ]
  },
  {
   "cell_type": "code",
   "execution_count": 4,
   "id": "c7284c9f",
   "metadata": {},
   "outputs": [
    {
     "data": {
      "image/png": "[encoded data removed]",
      "text/plain": [
       "<Figure size 432x288 with 2 Axes>"
      ]
     },
     "metadata": {
      "needs_background": "light"
     },
     "output_type": "display_data"
    }
   ],
   "source": [
    "ax1 = plt.subplot(1, 2, 1)\n",
    "ax1.set_aspect('equal')\n",
    "ax1.set_xlim([-2, 2])\n",
    "ax1.set_ylim([-2, 2])\n",
    "ax1.grid(True)\n",
    "ax1.set_title('a+b=c,b=c-a')\n",
    "ax1.quiver([0,1,0], [0,0,0], [1,0,1], [0,1,1], scale=1, units='xy', color=['b','g','r'], headwidth=10, headlength=10)\n",
    "ax1.text(0.5, -0.3, 'a', color='b')\n",
    "ax1.text(1.2, 0.4, 'b', color='g')\n",
    "ax1.text(0.25, 0.55, 'c', color='r')\n",
    "ax2 = plt.subplot(1, 2, 2)\n",
    "ax2.set_aspect('equal')\n",
    "ax2.set_xlim([-2, 2])\n",
    "ax2.set_ylim([-2, 2])\n",
    "ax2.grid(True)\n",
    "ax2.set_title('2a=b')\n",
    "ax2.quiver(0, 0, 1, 1, scale=1.2, units='xy', color='b', headwidth=10, headlength=10)\n",
    "ax2.quiver(0, 0, 1, 1, scale=0.6, units='xy', color='r', headwidth=10, headlength=10)\n",
    "ax2.text(0.25, 0.55, 'a', color='b')\n",
    "ax2.text(1, 0.6, 'b', color='r')\n",
    "plt.show()"
   ]
  },
  {
   "cell_type": "markdown",
   "id": "08ef5460",
   "metadata": {},
   "source": [
    "# Linear Combination\n",
    "\n",
    "The next key concept in linear algebra is linear combination.\n",
    "\n",
    "It can be written as $\\alpha\\mathbf{u}+\\beta\\mathbf{v}=\\mathbf{w}$, where $w_i=\\alpha u_i + \\beta v_i$\n",
    "\n",
    "The importance lies in that we can decompose any vector using a linear combination of a set of bases. If we choose basis $\\mathbf{u}=\\begin{bmatrix} 1 \\\\ 0 \\end{bmatrix}$, and $\\mathbf{v}=\\begin{bmatrix} 0 \\\\ 1 \\end{bmatrix}$, then any vector $\\mathbf{w}=\\begin{bmatrix} \\alpha \\\\ \\beta \\end{bmatrix}$ can be thought of as a linear combination of $\\begin{bmatrix} 1 \\\\ 0 \\end{bmatrix}$ and $\\begin{bmatrix} 1 \\\\ 0 \\end{bmatrix}$ as $\\mathbf{w}=\\alpha\\begin{bmatrix} 1 \\\\ 0 \\end{bmatrix}+\\beta\\begin{bmatrix} 0 \\\\ 1 \\end{bmatrix}$. The idea extends to n dimensions as well.\n",
    "\n",
    "People often talk about superposition in quantum physics/computing. Superposition just means that the state of the particle is a linear combination of some basis states."
   ]
  },
  {
   "cell_type": "markdown",
   "id": "78a3fbd3",
   "metadata": {},
   "source": [
    "# Dot Product\n",
    "\n",
    "Dot product on vectors is a function that takes two input vectors $\\mathbf{u}$ and $\\mathbf{v}$ of the same dimension, and returns a scalar as the output. The dimension of the inputs must be equal. Mathematically, doct product is defined as\n",
    "\n",
    "$dot(\\mathbf{u},\\mathbf{v}):=\\mathbf{u}^T\\mathbf{v}=\\begin{bmatrix} u_1 \\\\ u_2 \\\\ \\vdots \\\\ u_n \\end{bmatrix}^T\\begin{bmatrix} v_1 \\\\ v_2 \\\\ \\vdots \\\\ v_n \\end{bmatrix}=\\begin{bmatrix} u_1 \\ u_2 \\ \\cdots u_n \\end{bmatrix}\\begin{bmatrix} v_1 \\\\ v_2 \\\\ \\vdots \\\\ v_n \\end{bmatrix}=\\sum{u_i v_i}$\n",
    "\n",
    "The superscript $^T$ denotes transpose. A column vector's transpose is a row vector, which is essentially changing its orientation from vertical to horizontal.\n",
    "\n",
    "We can extend the dot production notion to complex vectors. We call that inner product. For inner product, we need to not only transpose the vector, but also take the complex conjugate of its components. We denote the combination of the transpose and complex conjugate as $^\\dagger$. For example, $\\begin{bmatrix}3 \\\\ 5\\end{bmatrix}^\\dagger=\\begin{bmatrix}3 \\ 5\\end{bmatrix}$, $\\begin{bmatrix}1-i \\\\ -5i\\end{bmatrix}^T=\\begin{bmatrix}1+i \\ 5i\\end{bmatrix}$. With that, $inner(\\mathbf{u}, \\mathbf{v}):=\\mathbf{u}^\\dagger\\mathbf{v}$.\n",
    "\n",
    "Dot product, and more generally inner product, is distributive with regards to addition. $(\\mathbf{u}+\\mathbf{v})^\\dagger\\mathbf{w}=\\mathbf{u}^\\dagger\\mathbf{w}+\\mathbf{v}^\\dagger\\mathbf{w}$.\n",
    "\n",
    "Dot product is communicative. $\\mathbf{u}^T\\mathbf{v}=\\mathbf{v}^T\\mathbf{u}$. Inner product, however, is not necessarily communicative. For it to be communicative, we'll need to take the complex conjugate of the result. $\\mathbf{u}^\\dagger\\mathbf{v}=(\\mathbf{v}^T\\mathbf{u})^*$. Note that $^*$ is ususally used to denote complex conjugate. That can be easily shown when we expand the operation and look at the component-wise manipulation.\n",
    "\n",
    "$\\mathbf{u}^\\dagger\\mathbf{v}=\\sum{u_i^*v_i}=\\sum{(v_i^*u_i)^*}=(\\sum{v_i^*u_i})^*=(\\mathbf{v}^T\\mathbf{u})^*$\n",
    "\n",
    "We can also slice the vectors during dot product or inner product, compute the sub-product first, and in the end sum all of them together.\n",
    "\n",
    "$\n",
    "\\mathbf{u}^\\dagger\\mathbf{v}=\\begin{bmatrix} \\mathbf{u_1} \\\\ \\hline \\\\ \\mathbf{u_2} \\\\ \\hline \\\\ \\vdots \\\\ \\hline \\\\ \\mathbf{u_d} \\end{bmatrix}^\\dagger\\begin{bmatrix} \\mathbf{v_1} \\\\ \\hline \\\\ \\mathbf{v_2} \\\\ \\hline \\\\ \\vdots \\\\ \\hline \\\\ \\mathbf{v_d} \\end{bmatrix}=\\sum_{i=0}^d{\\mathbf{u_i}^\\dagger\\mathbf{v_i}}\n",
    "$, where $\\mathbf{u_i}$ and $\\mathbf{v_i}$ are sub-vectors of the same dimension.\n"
   ]
  },
  {
   "cell_type": "markdown",
   "id": "72a8edca",
   "metadata": {},
   "source": [
    "# Vector Norms\n",
    "\n",
    "The norm of a vector concerns its magnitude. Norm has a general form of $\\|\\mathbf{u}\\|_p=\\biggl(\\sum{|u_i|^p}\\biggr)^{\\dfrac{1}{p}}$. We often talk about $L^1$ norm and $L^2$ norm. That just means $p=1$ and $p=2$ respectively for the norm definition. When we omit $p$ as in $\\|\\mathbf{u}\\|$, we always mean $L^2$ norm.\n",
    "\n",
    "One thing people often say in Machine Learning regularization is that $L^1$ norm encourages spacity of the parameters. It's actually not so much that $L^1$ norm encourages spacity, but rather $L^2$ norm discourages spacity. Because in $L^2$, due to the effect of taking the square, the model training has the incentives to prioritize decreasing the largest component as it contributes more to the overall sum. The other way to look at that is to take a look at the partial derivative. The partial derivative for $L^1$ norm is always $\\pm1$, while for $L^2$, it's $v_i$."
   ]
  },
  {
   "cell_type": "markdown",
   "id": "af6e9442",
   "metadata": {},
   "source": [
    "# The Angle Between Vectors\n",
    "\n",
    "When we dot product $\\mathbf{v}$ with itself, we see that $\\mathbf{v}^T\\mathbf{v}=\\sum{v_i^2}=\\|\\mathbf{v}\\|^2$. \n",
    "\n",
    "Let $\\mathbf{v}=\\mathbf{a}-\\mathbf{b}$, then\n",
    "$\n",
    "\\|\\mathbf{a}-\\mathbf{b}\\|^2=(\\mathbf{a}-\\mathbf{b})^T(\\mathbf{a}-\\mathbf{b})\n",
    "=\\mathbf{a}^T\\mathbf{a}+\\mathbf{b}^T\\mathbf{b}-\\mathbf{a}^T\\mathbf{b}-\\mathbf{b}^T\\mathbf{a}\n",
    "=\\|\\mathbf{a}\\|^2+\\|\\mathbf{b}\\|^2-2\\mathbf{a}^T\\mathbf{b}\n",
    "$.\n",
    "\n",
    "With the law of cosines, we know $\\|\\mathbf{a}-\\mathbf{b}\\|^2=\\|\\mathbf{a}\\|^2+\\|\\mathbf{b}\\|^2-2\\|\\mathbf{a}\\|\\|\\mathbf{b}\\|cos(\\theta)$, where $\\theta$ is the angle between $\\mathbf{a}$ and $\\mathbf{b}$. So we can conclude that $\\mathbf{a}^T\\mathbf{b}=\\|\\mathbf{a}\\|\\|\\mathbf{b}\\|cos(\\theta)$.\n",
    "\n",
    "When $\\theta=\\pi/2$, $cos(\\theta)=0$, then $\\mathbf{a}^T\\mathbf{b}=0$. On the other hand, if their dot product is equal to zero, either their angle is a multiple of $\\pi/2$, or at least one of the vector norm is zero."
   ]
  },
  {
   "cell_type": "markdown",
   "id": "72b97081",
   "metadata": {},
   "source": [
    "# Projection\n",
    "\n",
    "Via trigonometry, we know that the magnitude of the projection of $\\mathbf{a}$ on $\\mathbf{b}$ is $\\|\\mathbf{a}\\|cos(\\theta)$."
   ]
  },
  {
   "cell_type": "code",
   "execution_count": 5,
   "id": "f6766d44",
   "metadata": {},
   "outputs": [
    {
     "data": {
      "image/png": "[encoded data removed]",
      "text/plain": [
       "<Figure size 432x288 with 1 Axes>"
      ]
     },
     "metadata": {
      "needs_background": "light"
     },
     "output_type": "display_data"
    }
   ],
   "source": [
    "ax1 = plt.subplot(1, 1, 1)\n",
    "ax1.set_aspect('equal')\n",
    "ax1.set_xlim([-2, 2])\n",
    "ax1.set_ylim([-2, 2])\n",
    "ax1.grid(True)\n",
    "ax1.set_title('Projection')\n",
    "ax1.quiver([0,0], [0,0], [1.5,1], [0,1], scale=1, units='xy', color=['b','r'], headwidth=10, headlength=10)\n",
    "ax1.text(1.6, 0.1, 'b', color='b')\n",
    "ax1.text(0.25, 0.55, 'a', color='r')\n",
    "ax1.text(0.25, 0.1, r'$\\theta$')\n",
    "ax1.plot([1, 1], [0, 1], '--', color='r')\n",
    "ax1.text(0.3, -0.3, r'$||a||cos(\\theta)$', color='r')\n",
    "plt.show()"
   ]
  },
  {
   "cell_type": "markdown",
   "id": "1939be2a",
   "metadata": {},
   "source": [
    "The unit lenght vector along $\\mathbf{b}$ is $\\dfrac{\\mathbf{b}}{\\|\\mathbf{b}\\|}$. So the projection vector of $\\mathbf{a}$ on $\\mathbf{b}$ can be written to $proj_{\\mathbf{b}}(\\mathbf{a})=\\|\\mathbf{a}\\|cos(\\theta)\\dfrac{\\mathbf{b}}{\\|\\mathbf{b}\\|}$.\n",
    "\n",
    "We know from above that $\\mathbf{a}^T\\mathbf{b}=\\|\\mathbf{a}\\|\\|\\mathbf{b}\\|cos(\\theta)$, so $cos(\\theta)=\\dfrac{\\mathbf{a}^T\\mathbf{b}}{\\|\\mathbf{a}\\|\\|\\mathbf{b}\\|}$. Replacing the $cos(\\theta)$ in the projection above, we get $proj_{\\mathbf{b}}(\\mathbf{a})=\\|\\mathbf{a}\\|cos(\\theta)\\dfrac{\\mathbf{b}}{\\|\\mathbf{b}\\|}=\\|\\mathbf{a}\\|\\dfrac{\\mathbf{b}}{\\|\\mathbf{b}\\|}\\dfrac{\\mathbf{a}^T\\mathbf{b}}{\\|\\mathbf{a}\\|\\|\\mathbf{b}\\|}=\\dfrac{\\mathbf{a}^T\\mathbf{b}}{\\|\\mathbf{b}\\|^2}\\mathbf{b}$.\n",
    "\n",
    "\n",
    "Note that $\\mathbf{b}$ can be arbitrary none-zero vector. Let's say we have a standard basis vectors $\\mathbf{e}_i$ where all components of $\\mathbf{e}_i$ is 0 except for the $i^{th}$ component which is equal to 1. The projection of $\\mathbf{a}$ on $\\mathbf{e}_i$ is a vector that keeps the $i^{th}$ component of $\\mathbf{a}$ and has 0 everywhere else because $proj_{\\mathbf{e}_i}(\\mathbf{a})=\\dfrac{\\mathbf{a}^T\\mathbf{e}_i}{\\|\\mathbf{e}_i\\|^2}\\mathbf{e}_i$ and $\\mathbf{a}^T\\mathbf{e}_i$ is just the number of the $i^{th}$ component. To see it in an example, let\n",
    "$\n",
    "\\mathbf{a}=\n",
    "\\begin{bmatrix} 1 \\\\ 2 \\\\ 3 \\\\ 4 \\end{bmatrix}\n",
    "$, and\n",
    "$\n",
    "\\mathbf{e}_2=\n",
    "\\begin{bmatrix} 0 \\\\ 1 \\\\ 0 \\\\ 0 \\end{bmatrix}\n",
    "$, so $\\|\\mathbf{e}_2\\|=1$, then\n",
    "\n",
    "$\n",
    "proj_{\\mathbf{e}_2}(\\mathbf{a})=\\begin{bmatrix} 1 \\ 2 \\ 3 \\ 4 \\end{bmatrix}\\begin{bmatrix} 0 \\\\ 1 \\\\ 0 \\\\ 0 \\end{bmatrix}\\dfrac{1}{1}\\begin{bmatrix} 0 \\\\ 1 \\\\ 0 \\\\ 0 \\end{bmatrix}=2\\begin{bmatrix} 0 \\\\ 1 \\\\ 0 \\\\ 0 \\end{bmatrix}=\\begin{bmatrix} 0 \\\\ 2 \\\\ 0 \\\\ 0 \\end{bmatrix}\n",
    "$"
   ]
  },
  {
   "cell_type": "markdown",
   "id": "9c70d300",
   "metadata": {},
   "source": [
    "# Matrix\n",
    "\n",
    "Matrix is a rectangular array of elements. Note that we call individual items \"components\" in vectors and \"elements\" in matrices. We denote matrix using capital bold letter $\\mathbf{A}$. Sometimes, we specify the matrix shape (number of rows m and the number of columns n) in the subscript, $\\mathbf{A_{m\\times n}}$. We denote the element on the $i^{th}$ row and the $j^{th}$ column as $a_{i,j}$. For example:\n",
    "\n",
    "$\n",
    "\\mathbf{A_{3\\times 4}}=\\begin{bmatrix}\n",
    "1 \\ 5 \\ 6 \\ 3 \\\\\n",
    "8 \\ 2 \\ 4 \\ 9 \\\\\n",
    "5 \\ 1  \\ 7 \\ 2 \\\\\n",
    "\\end{bmatrix}\n",
    "$\n",
    "\n",
    "Another way to look at matrix is to treat it as an array of column vectors. In the above example,\n",
    "\n",
    "$\n",
    "\\mathbf{A}=\\begin{bmatrix} \\mathbf{e_1} \\ \\mathbf{e_2} \\ \\mathbf{e_3} \\ \\mathbf{e_4} \\end{bmatrix}\n",
    "$, where\n",
    "$\n",
    "\\mathbf{e_1}=\\begin{bmatrix} 1 \\\\ 8 \\\\ 5 \\end{bmatrix}\n",
    "$,\n",
    "$\n",
    "\\mathbf{e_2}=\\begin{bmatrix} 5 \\\\ 2 \\\\ 1 \\end{bmatrix}\n",
    "$,\n",
    "$\n",
    "\\mathbf{e_3}=\\begin{bmatrix} 6 \\\\ 4 \\\\ 7 \\end{bmatrix}\n",
    "$,\n",
    "$\n",
    "\\mathbf{e_4}=\\begin{bmatrix} 3 \\\\ 9 \\\\ 2 \\end{bmatrix}\n",
    "$.\n",
    "\n",
    "Obviously, we can also treat it as an arry of row vectors.\n",
    "\n",
    "$\n",
    "\\mathbf{A}=\\begin{bmatrix} \\mathbf{e_1} \\\\ \\mathbf{e_2} \\\\ \\mathbf{e_3} \\end{bmatrix}\n",
    "$, where\n",
    "$\n",
    "\\mathbf{e_1}=\\begin{bmatrix} 1 \\ 5 \\ 6 \\ 3 \\end{bmatrix}\n",
    "$,\n",
    "$\n",
    "\\mathbf{e_2}=\\begin{bmatrix} 8 \\ 2 \\ 4 \\ 9 \\end{bmatrix}\n",
    "$,\n",
    "$\n",
    "\\mathbf{e_3}=\\begin{bmatrix} 5 \\ 1 \\ 7 \\ 2 \\end{bmatrix}\n",
    "$.\n",
    "\n",
    "We've seen vector transposition above. We can also transpose a matrix, which is essentially swapping its row and column indices. $\\mathbf{A_{m\\times n}}^T=\\mathbf{B_{n\\times m}}$, where $a_{i,j}=b_{j,i}$. Using the $\\mathbf{A_{3\\times 4}}$ as an example,\n",
    "\n",
    "$\n",
    "\\mathbf{A}^T=\\begin{bmatrix}\n",
    "1 \\ 8 \\ 5 \\\\\n",
    "5 \\ 2 \\ 1 \\\\\n",
    "6 \\ 4 \\ 7 \\\\\n",
    "3 \\ 9 \\ 2 \\\\\n",
    "\\end{bmatrix}\n",
    "$"
   ]
  },
  {
   "cell_type": "markdown",
   "id": "74c1f4a0",
   "metadata": {},
   "source": [
    "# Matrix Operations\n",
    "\n",
    "Similar to vectors, we can add, subtract, and scale matrices.\n",
    "\n",
    "$\\mathbf{A}+\\mathbf{B}=\\mathbf{C}$, $c_{i,j}=a_{i,j}+b_{i,j}$\n",
    "\n",
    "$\\mathbf{A}-\\mathbf{B}=\\mathbf{C}$, $c_{i,j}=a_{i,j}-b_{i,j}$\n",
    "\n",
    "$s\\mathbf{A}=\\mathbf{B}$, $b_{i,j}=sa_{i,j}$\n",
    "\n",
    "Matrix addition, subtraction, and scaling are communicative and associative.\n",
    "\n",
    "$\\mathbf{A}\\pm\\mathbf{B}=\\mathbf{B}\\pm\\mathbf{A}$, $(\\mathbf{A}\\pm\\mathbf{B})\\pm\\mathbf{C}=\\mathbf{A}\\pm(\\mathbf{B}\\pm\\mathbf{C})$\n",
    "\n",
    "$s\\mathbf{A}=\\mathbf{A}s$, $(s_1s_2)\\mathbf{A}=s_1(s_2\\mathbf{A})$\n",
    "\n",
    "For addition and subtraction, $\\mathbf{A}$ and $\\mathbf{B}$ need to have the same shape.\n",
    "\n",
    "Multiplication is a bit different.\n",
    "$\\mathbf{A_{m\\times d}}\\mathbf{B_{d\\times n}}=\\mathbf{C_{m\\times n}}$, $c_{i,j}=\\sum_{k=1}^da_{i,k}b_{k,j}$. For example:\n",
    "\n",
    "$\n",
    "\\mathbf{A_{2\\times 3}}=\\begin{bmatrix}\n",
    "1 \\ 2 \\ 3 \\\\\n",
    "4 \\ 5 \\ 6 \\\\\n",
    "\\end{bmatrix}\n",
    "$,\n",
    "$\n",
    "\\mathbf{B}_{3\\times 2}=\\begin{bmatrix}\n",
    "1 \\ 4 \\\\ \n",
    "2 \\ 5 \\\\\n",
    "3 \\ 6 \\\\\n",
    "\\end{bmatrix}\n",
    "$,\n",
    "$\n",
    "\\mathbf{C_{2\\times 2}}=\\mathbf{A}\\mathbf{B}=\\begin{bmatrix}\n",
    "14 \\ 32 \\\\\n",
    "32 \\ 77 \\\\\n",
    "\\end{bmatrix}\n",
    "$.\n",
    "\n",
    "Notice that the shape of $\\mathbf{C}$ is the row number of $\\mathbf{A}$ and the column number of $\\mathbf{B}$.\n",
    "\n",
    "Matrix multiplication is associative and distributive with regards to addition and subtraction. But matrix multiplication is not communicative (at the very least the shapes won't necessarily match if we swap two matrices).\n",
    "\n",
    "$(\\mathbf{A}\\mathbf{B})\\mathbf{C}=\\mathbf{A}(\\mathbf{B}\\mathbf{C})$, $(\\mathbf{A}\\pm\\mathbf{B})\\mathbf{C}=\\mathbf{A}\\mathbf{C}\\pm\\mathbf{B}\\mathbf{C}$\n",
    "\n",
    "We can also multiply matrix by vector of which the dimension is equal to the matrix's column number.\n",
    "\n",
    "$\\mathbf{A_{m\\times d}}\\mathbf{v}=\\mathbf{b}$, $b_{i}=\\sum_{j=0}^d{a_{i,j}v_j}$. $\\mathbf{v}$ is of dimension $d$. $\\mathbf{b}$ are of dimension $m$. For example:\n",
    "\n",
    "$\n",
    "\\mathbf{A}=\\begin{bmatrix}\n",
    "1 \\ 2 \\ 3 \\\\\n",
    "4 \\ 5 \\ 6 \\\\\n",
    "\\end{bmatrix}\n",
    "$,\n",
    "$\n",
    "\\mathbf{v}=\\begin{bmatrix}\n",
    "1 \\\\ \n",
    "2 \\\\\n",
    "3 \\\\\n",
    "\\end{bmatrix}\n",
    "$,\n",
    "$\n",
    "\\mathbf{A}\\mathbf{v}=\\begin{bmatrix}\n",
    "14 \\\\\n",
    "32 \\\\\n",
    "\\end{bmatrix}\n",
    "$.\n",
    "\n",
    "We can treat matrix multiplication as a combination of matrix and vector multiplication. The vectors are the column vectors from the second matrix.\n",
    "\n",
    "$\\mathbf{A_{m\\times d}}\\mathbf{B_{d\\times n}}=\\mathbf{A_{m\\times d}}\\begin{bmatrix}\\mathbf{e_1} \\ \\mathbf{e_2} \\ \\cdots \\ \\mathbf{e_n} \\end{bmatrix}_{d\\times n}=\\begin{bmatrix}\\mathbf{A}\\mathbf{e_1} \\ \\mathbf{A}\\mathbf{e_2} \\ \\cdots \\ \\mathbf{A}\\mathbf{e_n} \\end{bmatrix}_{m\\times n}$\n"
   ]
  },
  {
   "cell_type": "markdown",
   "id": "6bc82ffe",
   "metadata": {},
   "source": [
    "# Matrix as Transformation\n",
    "\n",
    "The definition and operations of matrix may seem a bit arbiturary. But in fact, they have an intuitive geometric meaning. Matrix can be viewed as transformation. The easiest way to visualize this is to think of the standard bases. When we multiple a matrix by a standard basis vector, the result is where the standard basis vector ends up after the transformation.\n",
    "\n",
    "$\\mathbf{e_i}=\\begin{bmatrix}\n",
    "0 \\\\\n",
    "\\vdots \\\\\n",
    "1 \\\\\n",
    "\\vdots \\\\\n",
    "0 \\\\\n",
    "\\end{bmatrix}$, $e_k=1$ wheen $i==k$ and 0 everywhere else.\n",
    "\n",
    "$\\mathbf{A}\\mathbf{e_i}=\\begin{bmatrix}\n",
    "a_{1,i} \\\\\n",
    "\\vdots \\\\\n",
    "a_{k,i} \\\\\n",
    "\\vdots \\\\\n",
    "a_{n,i} \\\\\n",
    "\\end{bmatrix}$, which is $\\mathbf{A}$'s $i^{th}$ column vector.\n",
    "\n",
    "Since all vectors in the space can be represented by a linear combination of the standard bases, they'll all be transformed the same way.\n",
    "\n",
    "Let $\\mathbf{v}=\\alpha_1\\mathbf{e_1}+\\alpha_2\\mathbf{e_2}+\\cdots+\\alpha_n\\mathbf{e_n}$\n",
    "\n",
    "$\\mathbf{A}\\mathbf{v}=\\mathbf{A}(\\alpha_1\\mathbf{e_1}+\\alpha_2\\mathbf{e_2}+\\cdots+\\alpha_n\\mathbf{e_n})=\\alpha_1\\mathbf{A}\\mathbf{e_1}+\\alpha_2\\mathbf{A}\\mathbf{e_2}+\\cdots+\\alpha_n\\mathbf{A}\\mathbf{e_n}$\n",
    "\n",
    "The chain of matrix multiplication is like a compound transformations because $\\mathbf{B}\\mathbf{A}\\mathbf{v}=\\mathbf{B}(\\mathbf{A}\\mathbf{v})$ due to associativity.\n",
    "\n",
    "See the following animation for transformation in action."
   ]
  },
  {
   "cell_type": "code",
   "execution_count": 9,
   "id": "2410e525",
   "metadata": {},
   "outputs": [
    {
     "data": {
      "text/plain": [
       "<Figure size 432x288 with 0 Axes>"
      ]
     },
     "metadata": {},
     "output_type": "display_data"
    },
    {
     "data": {
      "text/plain": [
       "<Figure size 432x288 with 0 Axes>"
      ]
     },
     "metadata": {},
     "output_type": "display_data"
    },
    {
     "data": {
      "text/plain": [
       "<Figure size 432x288 with 0 Axes>"
      ]
     },
     "metadata": {},
     "output_type": "display_data"
    },
    {
     "data": {
      "text/plain": [
       "<Figure size 432x288 with 0 Axes>"
      ]
     },
     "metadata": {},
     "output_type": "display_data"
    }
   ],
   "source": [
    "%matplotlib inline\n",
    "\n",
    "import matplotlib.pyplot as plt\n",
    "import numpy as np\n",
    "import os\n",
    "from subprocess import call\n",
    "\n",
    "def step_matrics(A, nsteps=30):\n",
    "    '''\n",
    "    A is a NxN transformation matrix.\n",
    "    \n",
    "    Returns [A1, A2, ...] as the step transformation matrics.\n",
    "    '''\n",
    "    I = np.eye(A.shape[0])\n",
    "    return [I+j/nsteps*(A-I) for j in range(nsteps+1)]\n",
    "        \n",
    "\n",
    "def visualize(A, f, nsteps=30):\n",
    "    '''\n",
    "    A is a 2x2 transformation matrix.\n",
    "    '''\n",
    "    outdir = 'tmp'\n",
    "    if not os.path.exists(outdir):\n",
    "        os.makedirs(outdir)\n",
    "    assert A.shape == (2, 2)\n",
    "    e = np.eye(2)\n",
    "    As = step_matrics(A)\n",
    "    plt.ioff()\n",
    "    fig = plt.figure()\n",
    "    plt.axes().set_aspect('equal')\n",
    "    for i in range(nsteps+1):\n",
    "        t = As[i].dot(e)\n",
    "        plt.cla()\n",
    "        plt.xlim([-5, 5])\n",
    "        plt.ylim([-5, 5])\n",
    "        plt.title(f)\n",
    "        plt.grid(True)\n",
    "        plt.quiver([0,0], [0,0], t[0], t[1], scale=1, units='xy', color=['b','r'], headwidth=10, headlength=10)\n",
    "        plt.draw()\n",
    "        outfile = outdir + '/{}-{:04d}'.format(f, i) + \".png\"\n",
    "        fig.savefig(outfile, dpi=150)\n",
    "    plt.clf()\n",
    "    plt.ion()\n",
    "    call('cd {} && convert -delay 20 {}-*.png ../{}.gif'.format(outdir, f, f), shell=True)\n",
    "\n",
    "visualize(np.array([[2,-1],[1,1]]), 'lt1')\n",
    "visualize(np.array([[1,1],[3,1]]), 'lt2')\n",
    "visualize(np.array([[-1,1],[4,2]]), 'lt3')\n",
    "visualize(np.array([[1,2],[2,4]]), 'lt4')\n"
   ]
  },
  {
   "cell_type": "markdown",
   "id": "0f5e0360",
   "metadata": {},
   "source": [
    "Animation 1                     |  Animation 2\n",
    ":------------------------------:|:-------------------------:\n",
    "<img src=\"lt1.gif\" width=\"400\"> | <img src=\"lt2.gif\" width=\"400\">\n",
    "\n",
    "Animation 3                     |  Animation 4\n",
    ":------------------------------:|:-------------------------:\n",
    "<img src=\"lt3.gif\" width=\"400\"> | <img src=\"lt4.gif\" width=\"400\">\n",
    "\n",
    "In Animation 1, the transformation matrix $\\mathbf{A}=\\begin{bmatrix}2 \\ -1 \\\\ 1 \\ 1 \\end{bmatrix}$. In Animation 2, the transformation matrix $\\mathbf{B}=\\begin{bmatrix}1 \\ 1 \\\\ 3 \\ 1 \\end{bmatrix}$.\n",
    "In Animation 3, it's a compound transformation of $\\mathbf{B}\\mathbf{A}=\\begin{bmatrix}1- \\ 1 \\\\ 4 \\ 2 \\end{bmatrix}$. In Animation 4, the transformation matrix $\\mathbf{B}\\mathbf{A}=\\begin{bmatrix}1- \\ 1 \\\\ 4 \\ 2 \\end{bmatrix}$ actually squeezes the standard basis vectors into one line. It's related to the rank of the matrix, which we'll cover later."
   ]
  },
  {
   "cell_type": "markdown",
   "id": "d7d20ed3",
   "metadata": {},
   "source": [
    "# Python Code\n",
    "\n",
    "Let's look at some basic python code manipulation of vector and matrix."
   ]
  },
  {
   "cell_type": "code",
   "execution_count": null,
   "id": "3d30ca02",
   "metadata": {},
   "outputs": [],
   "source": [
    "#TODO\n",
    "a=np.array([[1,2,3], [4,5,6]])\n",
    "b=np.array([[1],[2],[3]])\n",
    "a.dot(b)"
   ]
  }
 ],
 "metadata": {
  "kernelspec": {
   "display_name": "Python 3",
   "language": "python",
   "name": "python3"
  },
  "language_info": {
   "codemirror_mode": {
    "name": "ipython",
    "version": 3
   },
   "file_extension": ".py",
   "mimetype": "text/x-python",
   "name": "python",
   "nbconvert_exporter": "python",
   "pygments_lexer": "ipython3",
   "version": "3.8.5"
  }
 },
 "nbformat": 4,
 "nbformat_minor": 5
}
