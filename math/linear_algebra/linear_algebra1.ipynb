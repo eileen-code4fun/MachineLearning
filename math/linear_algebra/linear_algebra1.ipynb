{
 "cells": [
  {
   "cell_type": "markdown",
   "id": "e998b9f4",
   "metadata": {},
   "source": [
    "# Basic Notations\n",
    "\n",
    "$\\mathbb{Z}$ denotes the set of all integers, such as -2, -1, 0, 1, 2, etc\n",
    "\n",
    "$\\mathbb{R}$ denotes the set of all real numbers, such as $\\sqrt{2}$, $\\pi$, 5.4, -53.9, etc\n",
    "\n",
    "$\\mathbb{C}$ denotes the set of all complex numbers, such as 3+i, -1-4i, i, etc."
   ]
  },
  {
   "cell_type": "markdown",
   "id": "bd9e44d6",
   "metadata": {},
   "source": [
    "# Vector\n",
    "\n",
    "A vector is a mathematical object with a magnitude and direction, denoted as a lowercase bold letter such as $\\mathbf{v}$, or a letter with an arrow on top $\\vec{a}$. Geometrically, vectors with 2 elements and 3 elements can be thought of as arrows in 2-dimensional  space and 3-dimensional space respectively, with their bases at the origin."
   ]
  },
  {
   "cell_type": "code",
   "execution_count": 2,
   "id": "60b459f7",
   "metadata": {},
   "outputs": [
    {
     "data": {
      "image/png": "[encoded data removed]",
      "text/plain": [
       "<Figure size 432x288 with 2 Axes>"
      ]
     },
     "metadata": {
      "needs_background": "light"
     },
     "output_type": "display_data"
    }
   ],
   "source": [
    "%matplotlib inline\n",
    "import matplotlib.pyplot as plt\n",
    "import numpy as np\n",
    "ax1 = plt.subplot(1, 2, 1)\n",
    "ax1.quiver(0, 0, 1.5, 1, scale=1, units='xy', headwidth=10, headlength=10)\n",
    "ax1.set_aspect('equal')\n",
    "ax1.set_xlim([-2, 2])\n",
    "ax1.set_ylim([-2, 2])\n",
    "ax1.grid()\n",
    "ax1.set_title('2D vector')\n",
    "ax2 = plt.subplot(1, 2, 2, projection='3d')\n",
    "ax2.quiver(0, 0, 0, 1, 1, 1)\n",
    "ax2.set_xlim3d([0, 1.5])\n",
    "ax2.set_ylim3d([0, 1.5])\n",
    "ax2.set_zlim3d([0, 1.5])\n",
    "ax2.set_title('3D vector')\n",
    "plt.show()"
   ]
  },
  {
   "cell_type": "markdown",
   "id": "e54474ff",
   "metadata": {},
   "source": [
    "More generally, a vector $\\mathbf{v}$ can be of n dimensions, i.e, have n elements:\n",
    "$\n",
    "\\mathbf{v}=\n",
    "\\begin{bmatrix} v_1 \\\\ v_2 \\\\ . \\\\ . \\\\ . \\\\ v_n \\end{bmatrix}\n",
    "$\n",
    "\n",
    "It's worth noting that though the elements of a vector are real in many cases, they can be complex number as well, for example:\n",
    "$\n",
    "\\mathbf{u}=\n",
    "\\begin{bmatrix} 3+i \\\\ -i \\\\ 1-6i \\end{bmatrix}\n",
    "$"
   ]
  },
  {
   "cell_type": "markdown",
   "id": "ae91c7b2",
   "metadata": {},
   "source": [
    "There is a more generic term about vector, which is tensor. Yes, the \"tensor\" in \"tensorflow\". Tensors are multi-indexed arrays of elements. The number of indice is called the order of the tensor. 0-tensor is scalar. 1-tensor is vector, 2-tensor is matrix. You can call 3-tensor a 3D cube. But really, for tensors of 3+ order, we just call them n-tensor. In linear algebra, we'll be mainly looking at vectors and matrixes."
   ]
  },
  {
   "cell_type": "markdown",
   "id": "8d4d98ae",
   "metadata": {},
   "source": [
    "# Linear Operations\n",
    "\n",
    "Coming back to vector, let's define some typical operations. You can add two vectors or subtract one from the other, assuming that the two vectors have the same dimension otherwise the addition and subtraction are not defined. Vector addition and subtraction are performed element-wise.\n",
    "\n",
    "$\\mathbf{a}+\\mathbf{b}=\\mathbf{c}$, where $c_i=a_i+b_i$. $\\mathbf{a}-\\mathbf{b}=\\mathbf{c}$, where $c_i=a_i-b_i$\n",
    "\n",
    "We can also multiple a vector by a scalar, in which the multiplication distributes to each vector element.\n",
    "\n",
    "$s\\mathbf{a}=\\mathbf{b}$, where $b_i=a_is$\n",
    "\n",
    "Both vector addition and vector scalar multiplication are communicative and assosiative.\n",
    "\n",
    "$\\mathbf{a}+\\mathbf{b}=\\mathbf{b}+\\mathbf{a}$, $(\\mathbf{a}+\\mathbf{b})+\\mathbf{c}=\\mathbf{a}+(\\mathbf{b}+\\mathbf{c})$\n",
    "\n",
    "$\\mathbf{a}s=s\\mathbf{a}$, $(s_1s_2)\\mathbf{a}=s_1(s_2\\mathbf{a})$\n",
    "\n",
    "In a sense, subtraction is addition of one vector and the negation (or multiplication of -1) of another vector.\n",
    "\n",
    "$\\mathbf{a}-\\mathbf{b}=\\mathbf{a}+(-\\mathbf{b})$\n",
    "\n",
    "\n",
    "Multiplication by scalar is also distributive with regards to addition.\n",
    "\n",
    "$s(\\mathbf{a}+\\mathbf{b})=s\\mathbf{a}+s\\mathbf{b}$\n",
    "\n",
    "Addition, subtraction, and multiplication by scalar all have their corresponding geometric meaning. Addition is like placing the tail of a vector at the head of another vecotor. Multiplication by scalar is scaling the magnitude of the veoctor with its direction unchanged. As we saw above, subtraction can be thought of as the combination of addition and multiplication by scalar. Using the 2 dimensional space for an illustration."
   ]
  },
  {
   "cell_type": "code",
   "execution_count": 3,
   "id": "c7284c9f",
   "metadata": {},
   "outputs": [
    {
     "data": {
      "image/png": "[encoded data removed]",
      "text/plain": [
       "<Figure size 432x288 with 2 Axes>"
      ]
     },
     "metadata": {
      "needs_background": "light"
     },
     "output_type": "display_data"
    }
   ],
   "source": [
    "ax1 = plt.subplot(1, 2, 1)\n",
    "ax1.set_aspect('equal')\n",
    "ax1.set_xlim([-2, 2])\n",
    "ax1.set_ylim([-2, 2])\n",
    "ax1.grid(True)\n",
    "ax1.set_title('a+b=c,b=c-a')\n",
    "ax1.quiver(0, 0, 1, 0, scale=1, units='xy', color='b', headwidth=10, headlength=10)\n",
    "ax1.quiver(1, 0, 0, 1, scale=1, units='xy', color='g', headwidth=10, headlength=10)\n",
    "ax1.quiver(0, 0, 1, 1, scale=1, units='xy', color='r', headwidth=10, headlength=10)\n",
    "ax1.text(0.5, -0.3, 'a', color='b')\n",
    "ax1.text(1.2, 0.4, 'b', color='g')\n",
    "ax1.text(0.25, 0.55, 'c', color='r')\n",
    "ax2 = plt.subplot(1, 2, 2)\n",
    "ax2.set_aspect('equal')\n",
    "ax2.set_xlim([-2, 2])\n",
    "ax2.set_ylim([-2, 2])\n",
    "ax2.grid(True)\n",
    "ax2.set_title('2a=b')\n",
    "ax2.quiver(0, 0, 1, 1, scale=1.2, units='xy', color='b', headwidth=10, headlength=10)\n",
    "ax2.quiver(0, 0, 1, 1, scale=0.6, units='xy', color='r', headwidth=10, headlength=10)\n",
    "ax2.text(0.25, 0.55, 'a', color='b')\n",
    "ax2.text(1, 0.6, 'b', color='r')\n",
    "plt.show()"
   ]
  },
  {
   "cell_type": "markdown",
   "id": "08ef5460",
   "metadata": {},
   "source": [
    "# Linear Combination\n",
    "\n",
    "The next key concept in linear algebra is linear combination.\n",
    "\n",
    "It can be written as $\\alpha\\mathbf{u}+\\beta\\mathbf{v}=\\mathbf{w}$, where $w_i=\\alpha u_i + \\beta v_i$\n",
    "\n",
    "The importance lies in that we can decompose any vector using a linear combination of a set of basis. If we choose basis $\\mathbf{u}=\\begin{bmatrix} 1 \\\\ 0 \\end{bmatrix}$, and $\\mathbf{v}=\\begin{bmatrix} 0 \\\\ 1 \\end{bmatrix}$, then any vector $\\mathbf{w}=\\begin{bmatrix} \\alpha \\\\ \\beta \\end{bmatrix}$ can be thought of as a linear combination of $\\begin{bmatrix} 1 \\\\ 0 \\end{bmatrix}$ and $\\begin{bmatrix} 1 \\\\ 0 \\end{bmatrix}$ as $\\mathbf{w}=\\alpha\\begin{bmatrix} 1 \\\\ 0 \\end{bmatrix}+\\beta\\begin{bmatrix} 0 \\\\ 1 \\end{bmatrix}$. The idea extends to n dimensions as well."
   ]
  },
  {
   "cell_type": "markdown",
   "id": "78a3fbd3",
   "metadata": {},
   "source": [
    "# Dot Product\n",
    "\n",
    "Dot product on vectors is a function that takes two input vectors $\\mathbf{u}$ and $\\mathbf{v}$ of the same dimension, and returns a scalar as the output. The dimension of the inputs must be equal. Mathematically, doct product is defined as\n",
    "\n",
    "$dot(\\mathbf{u},\\mathbf{v}):=\\mathbf{u}^T\\mathbf{v}=\\begin{bmatrix} u_1 \\\\ u_2 \\\\ . \\\\ . \\\\ . \\\\ u_n \\end{bmatrix}^T\\begin{bmatrix} v_1 \\\\ v_2 \\\\ . \\\\ . \\\\ . \\\\ v_n \\end{bmatrix}=\\begin{bmatrix} u_1 \\ u_2 \\ . \\ . \\ . \\ u_n \\end{bmatrix}\\begin{bmatrix} v_1 \\\\ v_2 \\\\ . \\\\ . \\\\ . \\\\ v_n \\end{bmatrix}=\\sum{u_i v_i}$\n",
    "\n",
    "The superscript $^T$ denotes transpose. A column vector's transpose is a row vector, which is essentially changing its orientation from vertical to horizontal.\n",
    "\n",
    "We can extend the dot production notion to complex vectors. We call that inner product. For inner product, we need to not only transpose the vector, but also take the complex conjugate of its elements. We denote the combination of the transpose and complex conjugate as $^\\dagger$. For example, $\\begin{bmatrix}3 \\\\ 5\\end{bmatrix}^\\dagger=\\begin{bmatrix}3 \\ 5\\end{bmatrix}$, $\\begin{bmatrix}1-i \\\\ -5i\\end{bmatrix}^T=\\begin{bmatrix}1+i \\ 5i\\end{bmatrix}$. With that, $inner(\\mathbf{u}, \\mathbf{v}):=\\mathbf{u}^\\dagger\\mathbf{v}$.\n",
    "\n",
    "Dot product, and more generally inner product, is distributive with regards to addition. $(\\mathbf{u}+\\mathbf{v})^\\dagger\\mathbf{w}=\\mathbf{u}^\\dagger\\mathbf{w}+\\mathbf{v}^\\dagger\\mathbf{w}$.\n",
    "\n",
    "Dot product is communicative. $\\mathbf{u}^T\\mathbf{v}=\\mathbf{v}^T\\mathbf{u}$. Inner product, however, is not necessarily communicative. For it to be communicative, we'll need to take the complex conjugate of the result. $\\mathbf{u}^\\dagger\\mathbf{v}=(\\mathbf{v}^T\\mathbf{u})^*$. Note that $^*$ is ususally used to denote complex conjugate. That can be easily shown when we expand the operation and look at the element-wise manipulation.\n",
    "\n",
    "$\\mathbf{u}^\\dagger\\mathbf{v}=\\sum{u_i^*v_i}=\\sum{(v_i^*u_i)^*}=(\\sum{v_i^*u_i})^*=(\\mathbf{v}^T\\mathbf{u})^*$\n"
   ]
  },
  {
   "cell_type": "markdown",
   "id": "72a8edca",
   "metadata": {},
   "source": [
    "# Vector Norms\n",
    "\n",
    "The norm of a vector concerns its magnitude. Norm has a general form of $\\|\\mathbf{u}\\|_p=\\biggl(\\sum{|u_i|^p}\\biggr)^{\\dfrac{1}{p}}$. We often talk about $L^1$ norm and $L^2$ norm. That just means $p=1$ and $p=2$ respectively for the norm definition. When we omit $p$ as in $\\|\\mathbf{u}\\|$, we always mean $L^2$ norm.\n",
    "\n",
    "One thing people often say in Machine Learning regularization is that $L^1$ norm encourages spacity of the parameters. It's actually not so much that $L^1$ norm encourages spacity, but rather $L^2$ norm discourages spacity. Because in $L^2$, due to the effect of taking the square, the model training has the incentives to prioritize decreasing the largest element as it contributes more to the overall sum. The other way to look at that is to take a look at the partial derivative. The partial derivative for $L^1$ norm is always $\\pm1$, while for $L^2$, it's $v_i$."
   ]
  },
  {
   "cell_type": "markdown",
   "id": "af6e9442",
   "metadata": {},
   "source": [
    "# The Angle Between Vectors\n",
    "\n",
    "When we dot product $\\mathbf{v}$ with itself, we see that $\\mathbf{v}^T\\mathbf{v}=\\sum{v_i^2}=\\|\\mathbf{v}\\|^2$. \n",
    "\n",
    "Let $\\mathbf{v}=\\mathbf{a}-\\mathbf{b}$, then\n",
    "$\n",
    "\\|\\mathbf{a}-\\mathbf{b}\\|^2=(\\mathbf{a}-\\mathbf{b})^T(\\mathbf{a}-\\mathbf{b})\n",
    "=\\mathbf{a}^T\\mathbf{a}+\\mathbf{b}^T\\mathbf{b}-\\mathbf{a}^T\\mathbf{b}-\\mathbf{b}^T\\mathbf{a}\n",
    "=\\|\\mathbf{a}\\|^2+\\|\\mathbf{b}\\|^2-2\\mathbf{a}^T\\mathbf{b}\n",
    "$.\n",
    "\n",
    "With the law of cosines, we know $\\|\\mathbf{a}-\\mathbf{b}\\|^2=\\|\\mathbf{a}\\|^2+\\|\\mathbf{b}\\|^2-2\\|\\mathbf{a}\\|\\|\\mathbf{b}\\|cos(\\theta)$, where $\\theta$ is the angle between $\\mathbf{a}$ and $\\mathbf{b}$. So we can conclude that $\\mathbf{a}^T\\mathbf{b}=\\|\\mathbf{a}\\|\\|\\mathbf{b}\\|cos(\\theta)$.\n",
    "\n",
    "When $\\theta=\\pi/2$, $cos(\\theta)=0$, then $\\mathbf{a}^T\\mathbf{b}=0$. On the other hand, if their dot product is equal to zero, either their angle is a multiple of $\\pi/2$, or at least one of the vector norm is zero."
   ]
  },
  {
   "cell_type": "markdown",
   "id": "72b97081",
   "metadata": {},
   "source": [
    "# Projection\n",
    "\n",
    "## TODO"
   ]
  },
  {
   "cell_type": "code",
   "execution_count": null,
   "id": "f6766d44",
   "metadata": {},
   "outputs": [],
   "source": []
  }
 ],
 "metadata": {
  "kernelspec": {
   "display_name": "Python 3",
   "language": "python",
   "name": "python3"
  },
  "language_info": {
   "codemirror_mode": {
    "name": "ipython",
    "version": 3
   },
   "file_extension": ".py",
   "mimetype": "text/x-python",
   "name": "python",
   "nbconvert_exporter": "python",
   "pygments_lexer": "ipython3",
   "version": "3.8.5"
  }
 },
 "nbformat": 4,
 "nbformat_minor": 5
}
